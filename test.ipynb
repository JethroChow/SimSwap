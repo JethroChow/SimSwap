{
 "cells": [
  {
   "cell_type": "code",
   "execution_count": null,
   "id": "f2d743b4-d151-4bd5-8dc2-3c7afa150c89",
   "metadata": {},
   "outputs": [],
   "source": [
    "import cv2\n",
    "import sys\n",
    "import torch"
   ]
  },
  {
   "cell_type": "code",
   "execution_count": null,
   "id": "151d892c-03d5-4097-9901-d64672e96c9d",
   "metadata": {},
   "outputs": [],
   "source": [
    "from util.load_models import load_netArc, load_face_swap_model, load_insightface_model"
   ]
  },
  {
   "cell_type": "code",
   "execution_count": null,
   "id": "db3c0541-e41f-45c4-9e73-c85bd801824b",
   "metadata": {},
   "outputs": [],
   "source": [
    "device = torch.device(\"cuda:0\" if torch.cuda.is_available() else \"cpu\")"
   ]
  },
  {
   "cell_type": "code",
   "execution_count": null,
   "id": "e047a555-34d8-4640-919e-2d0eb41bfd61",
   "metadata": {
    "scrolled": true
   },
   "outputs": [],
   "source": [
    "from options.test_options import TestOptions\n",
    "\n",
    "sys.argv = sys.argv[:1]\n",
    "\n",
    "opt = TestOptions().parse() \n",
    "\n",
    "opt.use_mask = True\n",
    "opt.name = 'people'\n",
    "opt.Arc_path = './checkpoints/arcface_model/arcface_checkpoint.tar'\n",
    "opt.crop_size = 224"
   ]
  },
  {
   "cell_type": "code",
   "execution_count": null,
   "id": "564afc78-a8c8-4e94-8cc4-b0b19cb50074",
   "metadata": {},
   "outputs": [],
   "source": [
    "netArc = load_netArc(opt.Arc_path, device)\n",
    "face_swap_model = load_face_swap_model(device, netArc, opt)\n",
    "detect_model = load_insightface_model(device)"
   ]
  },
  {
   "cell_type": "code",
   "execution_count": null,
   "id": "25b9b786-4c2b-4114-bbe3-fcb85ffecfdc",
   "metadata": {},
   "outputs": [],
   "source": [
    "source_image_path = 'demo_file/source_image/Iron_man.jpg'\n",
    "target_video_path = 'demo_file/target_video/jirou_anni.mp4'\n",
    "result_video_path = 'demo_file/result'"
   ]
  },
  {
   "cell_type": "markdown",
   "id": "e247df19-47e8-4a99-aba9-58f092be699a",
   "metadata": {},
   "source": [
    "## Source图像处理"
   ]
  },
  {
   "cell_type": "code",
   "execution_count": null,
   "id": "ef76885e-b577-4f96-9281-ebb857e21e07",
   "metadata": {},
   "outputs": [],
   "source": [
    "source_image = cv2.imread(source_image_path)"
   ]
  },
  {
   "cell_type": "code",
   "execution_count": null,
   "id": "dd1859bb-f47b-49af-8c41-1365920eec43",
   "metadata": {},
   "outputs": [],
   "source": [
    "from util.face_process import crop_and_align_face\n",
    "from util.data_process import process_latent_id\n",
    "\n",
    "source_crop_align_image, source_M = crop_and_align_face(detect_model, source_image, opt.crop_size)\n",
    "latend_id = process_latent_id(source_crop_align_image, netArc, device)"
   ]
  },
  {
   "cell_type": "markdown",
   "id": "96cd60d1-63cb-4498-8bc6-a86908518e18",
   "metadata": {},
   "source": [
    "## 视频处理"
   ]
  },
  {
   "cell_type": "code",
   "execution_count": null,
   "id": "fb0fd7ba-f6d9-41d7-a4e5-444999c4b59c",
   "metadata": {},
   "outputs": [],
   "source": [
    "target_video = cv2.VideoCapture(target_video_path)\n",
    "target_video.set(cv2.CAP_PROP_POS_FRAMES, 150)\n",
    "\n",
    "ret, frame = target_video.read()"
   ]
  },
  {
   "cell_type": "code",
   "execution_count": null,
   "id": "e07b932c-e2e8-4b5a-b54c-f5db9f57e800",
   "metadata": {},
   "outputs": [],
   "source": [
    "target_crop_align_image, target_M = crop_and_align_face(detect_model, frame, opt.crop_size)"
   ]
  },
  {
   "cell_type": "code",
   "execution_count": null,
   "id": "55bf1dd2-1b5e-4f03-bb1c-041613515556",
   "metadata": {},
   "outputs": [],
   "source": [
    "from util.data_process import process_image_tensor"
   ]
  },
  {
   "cell_type": "code",
   "execution_count": null,
   "id": "a9635f00-a469-46ad-9e4a-3e6eec84306f",
   "metadata": {},
   "outputs": [],
   "source": [
    "target_crop_align_tensor = process_image_tensor(target_crop_align_image)"
   ]
  },
  {
   "cell_type": "markdown",
   "id": "f4baff34-cfd8-4109-8d3f-c0d7bb4afc8f",
   "metadata": {},
   "source": [
    "## 人脸交换"
   ]
  },
  {
   "cell_type": "code",
   "execution_count": null,
   "id": "0a3f8430-d5ba-446c-ba59-9357dc8b582d",
   "metadata": {},
   "outputs": [],
   "source": [
    "swap_result = face_swap_model(None, target_crop_align_tensor, latend_id, None, True)"
   ]
  },
  {
   "cell_type": "code",
   "execution_count": null,
   "id": "208d7a32-444f-48e3-8159-7aa46322e10e",
   "metadata": {},
   "outputs": [],
   "source": []
  }
 ],
 "metadata": {
  "kernelspec": {
   "display_name": "Python (faceSwap)",
   "language": "python",
   "name": "faceswap"
  },
  "language_info": {
   "codemirror_mode": {
    "name": "ipython",
    "version": 3
   },
   "file_extension": ".py",
   "mimetype": "text/x-python",
   "name": "python",
   "nbconvert_exporter": "python",
   "pygments_lexer": "ipython3",
   "version": "3.8.20"
  }
 },
 "nbformat": 4,
 "nbformat_minor": 5
}
